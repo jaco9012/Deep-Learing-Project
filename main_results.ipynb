{
 "cells": [
  {
   "cell_type": "markdown",
   "metadata": {},
   "source": [
    "# Main results\n",
    "In this script the main results from the project *Online Reinforcement Learning with Augmented Data on the OpenAI ProcGen Benchmark* is reproduced. The project was carried out by Jacob Bahnsen Schmidt (s184346) and Kasper Schou Telkamp (s170397) in the DTU course 02456 Deep Learning in the Fall of 2021.\n",
    "\n",
    "At first we load in the packages needed and define the functions needed to produce the plots"
   ]
  },
  {
   "cell_type": "code",
   "execution_count": 1,
   "metadata": {},
   "outputs": [],
   "source": [
    "import torch\n",
    "import imageio\n",
    "import matplotlib.pyplot as plt\n",
    "import numpy as np\n",
    "from IPython.display import Video\n",
    "\n",
    "# To calculate the moving average for plotting.\n",
    "def moving_average(a, n=10) :\n",
    "    ret = np.cumsum(a, dtype=float)\n",
    "    ret[n:] = ret[n:] - ret[:-n]\n",
    "    return ret / n"
   ]
  },
  {
   "cell_type": "markdown",
   "metadata": {},
   "source": [
    "### Figures\n",
    "In this project we worked on three different models. One based on the Nature CNN model architecture, and two based on the deep IMPALA CNN architecture. The two IMPALA CNN models differend in the input received by the agent. Now we load the training and validation results for the three final models and construct the plot."
   ]
  },
  {
   "cell_type": "code",
   "execution_count": null,
   "metadata": {},
   "outputs": [],
   "source": [
    "# Models to make plots for\n",
    "baseline=\"baseline_v6\"\n",
    "IMPALA=\"IMPALA_v6\"\n",
    "IMPALA_rand_conv=\"IMPALA_rand_conv_v8\"\n",
    "\n",
    "total_training_reward_baseline = torch.load('trainingResults/training_Reward_' + baseline + '.pt')\n",
    "total_training_reward_IMPALA = torch.load('trainingResults/training_Reward_' + IMPALA + '.pt')\n",
    "total_training_reward_rand_conv = torch.load('trainingResults/training_Reward_' + IMPALA_rand_conv + '.pt')\n",
    "\n",
    "x_train_baseline = range(0, (len(total_training_reward_baseline))*8192*2, 8192*2)\n",
    "x_train_IMPALA = range(0, (len(total_training_reward_IMPALA))*8192*2, 8192*2)\n",
    "x_train_rand_conv = range(0, (len(total_training_reward_rand_conv))*8192*2, 8192*2)\n",
    "\n",
    "total_validation_reward_baseline = torch.load('trainingResults/validation_Reward_' + baseline + '.pt')\n",
    "total_validation_reward_IMPALA = torch.load('trainingResults/validation_Reward_' + IMPALA + '.pt')\n",
    "total_validation_reward_rand_conv = torch.load('trainingResults/validation_Reward_' + IMPALA_rand_conv + '.pt')\n",
    "\n",
    "x_val_baseline = range(0, (len(total_validation_reward_baseline))*196608, 196608)\n",
    "x_val_IMPALA = range(0, (len(total_validation_reward_IMPALA))*196608, 196608)\n",
    "x_val_rand_conv = range(0, (len(total_validation_reward_rand_conv))*196608, 196608)\n",
    "\n",
    "plt.subplots(nrows=3,ncols=1,sharex='col', figsize=(12,6))\n",
    "# Baseline\n",
    "plt.subplot(3,1,1)\n",
    "plt.plot(x_train_baseline, total_training_reward_baseline, label='Total Training Reward')\n",
    "plt.plot(x_train_baseline,moving_average(total_training_reward_baseline), label = 'Moving Average')\n",
    "plt.plot(x_val_baseline, total_validation_reward_baseline, label='Total Validation Reward')\n",
    "plt.legend(loc='upper center', bbox_to_anchor=(0.5,1.3), ncol=3, fancybox=True)\n",
    "plt.title(label='Nature CNN', loc='left')\n",
    "plt.grid()\n",
    "# IMPALA\n",
    "plt.subplot(3,1,2)\n",
    "plt.plot(x_train_IMPALA, total_training_reward_IMPALA)\n",
    "plt.plot(x_train_IMPALA,moving_average(total_training_reward_IMPALA))\n",
    "plt.plot(x_val_IMPALA, total_validation_reward_IMPALA)\n",
    "plt.ylabel('Average Reward')\n",
    "plt.grid()\n",
    "plt.title(label='IMPALA CNN', loc='left')\n",
    "# Rand Conv\n",
    "plt.subplot(3,1,3)\n",
    "plt.plot(x_train_rand_conv, total_training_reward_rand_conv)\n",
    "plt.plot(x_train_rand_conv,moving_average(total_training_reward_rand_conv))\n",
    "plt.plot(x_val_rand_conv, total_validation_reward_rand_conv)\n",
    "plt.xlabel('Time Steps')\n",
    "plt.title(label='IMPALA CNN + Rand. Conv.', loc='left')\n",
    "plt.xlim((0, max(x_train_baseline)*1.02))\n",
    "plt.grid()\n",
    "plt.tight_layout(h_pad=1.1)\n",
    "plt.show()"
   ]
  },
  {
   "cell_type": "markdown",
   "metadata": {},
   "source": [
    "### Videos\n",
    "\n",
    "To illustrate the performance of the different models, we will visualize the performance of the agents in a ~20 seconds video.\n",
    "\n",
    "First we show the **Nature CNN** model:"
   ]
  },
  {
   "cell_type": "code",
   "execution_count": 2,
   "metadata": {},
   "outputs": [
    {
     "ename": "NameError",
     "evalue": "name 'Video' is not defined",
     "output_type": "error",
     "traceback": [
      "\u001b[1;31m---------------------------------------------------------------------------\u001b[0m",
      "\u001b[1;31mNameError\u001b[0m                                 Traceback (most recent call last)",
      "\u001b[1;32m~\\AppData\\Local\\Temp/ipykernel_18964/4264833834.py\u001b[0m in \u001b[0;36m<module>\u001b[1;34m\u001b[0m\n\u001b[1;32m----> 1\u001b[1;33m \u001b[0mVideo\u001b[0m\u001b[1;33m(\u001b[0m\u001b[1;34m\"videos/\"\u001b[0m \u001b[1;33m+\u001b[0m \u001b[0mbaseline\u001b[0m \u001b[1;33m+\u001b[0m \u001b[1;34m\".mp4\"\u001b[0m\u001b[1;33m)\u001b[0m\u001b[1;33m\u001b[0m\u001b[1;33m\u001b[0m\u001b[0m\n\u001b[0m",
      "\u001b[1;31mNameError\u001b[0m: name 'Video' is not defined"
     ]
    }
   ],
   "source": [
    "Video(\"videos/\" + baseline + \".mp4\")"
   ]
  },
  {
   "cell_type": "markdown",
   "metadata": {},
   "source": [
    "Then the **IMPALA CNN** model"
   ]
  },
  {
   "cell_type": "code",
   "execution_count": null,
   "metadata": {},
   "outputs": [],
   "source": [
    "Video(\"videos/\" + IMPALA + \".mp4\")"
   ]
  },
  {
   "cell_type": "markdown",
   "metadata": {},
   "source": [
    "And lastly the **IMPALA CNN + RANDOM CONVOLUTION** model"
   ]
  },
  {
   "cell_type": "code",
   "execution_count": null,
   "metadata": {},
   "outputs": [],
   "source": [
    "Video(\"videos/\" + IMPALA_rand_conv + \".mp4\")"
   ]
  }
 ],
 "metadata": {
  "interpreter": {
   "hash": "b3409e4492da0c94de781ccc82ac7178d736d89fa988366ab9bd816f126011a3"
  },
  "kernelspec": {
   "display_name": "Python 3.7.11 64-bit ('deepRLenvi': conda)",
   "language": "python",
   "name": "python3"
  },
  "language_info": {
   "codemirror_mode": {
    "name": "ipython",
    "version": 3
   },
   "file_extension": ".py",
   "mimetype": "text/x-python",
   "name": "python",
   "nbconvert_exporter": "python",
   "pygments_lexer": "ipython3",
   "version": "3.7.11"
  },
  "orig_nbformat": 4
 },
 "nbformat": 4,
 "nbformat_minor": 2
}
